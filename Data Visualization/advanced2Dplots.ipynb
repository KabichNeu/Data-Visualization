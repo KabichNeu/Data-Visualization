{
 "cells": [
  {
   "cell_type": "markdown",
   "metadata": {},
   "source": [
    "# Exponential Decay \n",
    "\n",
    "making fake data,plot data points and functions on the same graph,use log scales"
   ]
  },
  {
   "cell_type": "code",
   "execution_count": 1,
   "metadata": {},
   "outputs": [],
   "source": [
    "import numpy as np"
   ]
  },
  {
   "cell_type": "code",
   "execution_count": 2,
   "metadata": {},
   "outputs": [],
   "source": [
    "import matplotlib.pyplot as plt"
   ]
  },
  {
   "cell_type": "code",
   "execution_count": 4,
   "metadata": {},
   "outputs": [],
   "source": [
    "x_fake = np.linspace(0,4,20)"
   ]
  },
  {
   "cell_type": "code",
   "execution_count": 5,
   "metadata": {},
   "outputs": [
    {
     "data": {
      "text/plain": [
       "array([0.        , 0.21052632, 0.42105263, 0.63157895, 0.84210526,\n",
       "       1.05263158, 1.26315789, 1.47368421, 1.68421053, 1.89473684,\n",
       "       2.10526316, 2.31578947, 2.52631579, 2.73684211, 2.94736842,\n",
       "       3.15789474, 3.36842105, 3.57894737, 3.78947368, 4.        ])"
      ]
     },
     "execution_count": 5,
     "metadata": {},
     "output_type": "execute_result"
    }
   ],
   "source": [
    "x_fake"
   ]
  },
  {
   "cell_type": "code",
   "execution_count": 7,
   "metadata": {},
   "outputs": [],
   "source": [
    "noise = 0.025*np.random.normal(size=len(x_fake)) #random numbers"
   ]
  },
  {
   "cell_type": "code",
   "execution_count": 8,
   "metadata": {},
   "outputs": [
    {
     "data": {
      "text/plain": [
       "array([ 0.00632224, -0.02342283, -0.02598017, -0.01374212, -0.02603523,\n",
       "       -0.00075789,  0.01572686, -0.04779017,  0.03174884,  0.01926219,\n",
       "        0.00479524,  0.01658462, -0.0087079 ,  0.0102649 , -0.03753597,\n",
       "        0.00089114, -0.00474091,  0.03251565,  0.06891853, -0.0049479 ])"
      ]
     },
     "execution_count": 8,
     "metadata": {},
     "output_type": "execute_result"
    }
   ],
   "source": [
    "noise"
   ]
  },
  {
   "cell_type": "code",
   "execution_count": 9,
   "metadata": {},
   "outputs": [],
   "source": [
    "y_fake = np.exp(-x_fake)+noise"
   ]
  },
  {
   "cell_type": "code",
   "execution_count": 10,
   "metadata": {},
   "outputs": [
    {
     "data": {
      "text/plain": [
       "array([1.00632224, 0.78673491, 0.63037539, 0.51800941, 0.40476739,\n",
       "       0.34826018, 0.29848655, 0.18128978, 0.21733973, 0.16962009,\n",
       "       0.12660885, 0.11527286, 0.07124514, 0.07503947, 0.01494165,\n",
       "       0.0434063 , 0.02970307, 0.06042071, 0.09152603, 0.01336774])"
      ]
     },
     "execution_count": 10,
     "metadata": {},
     "output_type": "execute_result"
    }
   ],
   "source": [
    "y_fake"
   ]
  },
  {
   "cell_type": "code",
   "execution_count": 11,
   "metadata": {},
   "outputs": [],
   "source": [
    "#create theoretical curve to compare with data"
   ]
  },
  {
   "cell_type": "code",
   "execution_count": 12,
   "metadata": {},
   "outputs": [],
   "source": [
    "x_theory=np.linspace(0,5,200) #use more values to get smooth curves"
   ]
  },
  {
   "cell_type": "code",
   "execution_count": 13,
   "metadata": {},
   "outputs": [],
   "source": [
    "y_theory = np.exp(-x_theory)"
   ]
  },
  {
   "cell_type": "code",
   "execution_count": 14,
   "metadata": {},
   "outputs": [
    {
     "data": {
      "text/plain": [
       "array([1.        , 0.97518739, 0.95099045, 0.9273939 , 0.90438284,\n",
       "       0.88194274, 0.86005945, 0.83871913, 0.81790832, 0.79761388,\n",
       "       0.777823  , 0.75852319, 0.73970225, 0.72134831, 0.70344978,\n",
       "       0.68599536, 0.66897402, 0.65237503, 0.63618791, 0.62040243,\n",
       "       0.60500863, 0.58999679, 0.57535743, 0.56108131, 0.54715942,\n",
       "       0.53358297, 0.52034338, 0.50743231, 0.49484159, 0.48256328,\n",
       "       0.47058963, 0.45891307, 0.44752624, 0.43642195, 0.42559318,\n",
       "       0.41503311, 0.40473505, 0.39469252, 0.38489917, 0.37534882,\n",
       "       0.36603544, 0.35695314, 0.34809621, 0.33945903, 0.33103617,\n",
       "       0.3228223 , 0.31481224, 0.30700092, 0.29938343, 0.29195495,\n",
       "       0.28471078, 0.27764637, 0.27075724, 0.26403904, 0.25748755,\n",
       "       0.25109861, 0.2448682 , 0.23879238, 0.23286732, 0.22708927,\n",
       "       0.2214546 , 0.21595973, 0.21060121, 0.20537564, 0.20027974,\n",
       "       0.19531028, 0.19046412, 0.18573821, 0.18112956, 0.17663526,\n",
       "       0.17225248, 0.16797845, 0.16381046, 0.1597459 , 0.15578219,\n",
       "       0.15191683, 0.14814737, 0.14447145, 0.14088674, 0.13739097,\n",
       "       0.13398194, 0.1306575 , 0.12741555, 0.12425404, 0.12117097,\n",
       "       0.1181644 , 0.11523243, 0.11237322, 0.10958495, 0.10686586,\n",
       "       0.10421424, 0.10162841, 0.09910674, 0.09664765, 0.09424957,\n",
       "       0.09191099, 0.08963044, 0.08740647, 0.08523769, 0.08312272,\n",
       "       0.08106023, 0.07904891, 0.07708751, 0.07517476, 0.07330948,\n",
       "       0.07149048, 0.06971662, 0.06798677, 0.06629984, 0.06465477,\n",
       "       0.06305051, 0.06148606, 0.05996043, 0.05847266, 0.0570218 ,\n",
       "       0.05560694, 0.05422719, 0.05288167, 0.05156954, 0.05028996,\n",
       "       0.04904214, 0.04782528, 0.04663861, 0.04548138, 0.04435287,\n",
       "       0.04325236, 0.04217915, 0.04113258, 0.04011197, 0.03911669,\n",
       "       0.0381461 , 0.0371996 , 0.03627658, 0.03537646, 0.03449868,\n",
       "       0.03364268, 0.03280792, 0.03199387, 0.03120002, 0.03042586,\n",
       "       0.02967092, 0.0289347 , 0.02821676, 0.02751663, 0.02683387,\n",
       "       0.02616805, 0.02551875, 0.02488557, 0.02426809, 0.02366594,\n",
       "       0.02307872, 0.02250608, 0.02194764, 0.02140307, 0.020872  ,\n",
       "       0.02035411, 0.01984907, 0.01935657, 0.01887628, 0.01840791,\n",
       "       0.01795116, 0.01750575, 0.01707138, 0.0166478 , 0.01623472,\n",
       "       0.0158319 , 0.01543907, 0.01505598, 0.0146824 , 0.0143181 ,\n",
       "       0.01396283, 0.01361637, 0.01327851, 0.01294904, 0.01262774,\n",
       "       0.01231441, 0.01200886, 0.01171089, 0.01142031, 0.01113694,\n",
       "       0.01086061, 0.01059113, 0.01032833, 0.01007206, 0.00982215,\n",
       "       0.00957843, 0.00934077, 0.009109  , 0.00888298, 0.00866257,\n",
       "       0.00844763, 0.00823802, 0.00803362, 0.00783428, 0.00763989,\n",
       "       0.00745033, 0.00726546, 0.00708519, 0.00690939, 0.00673795])"
      ]
     },
     "execution_count": 14,
     "metadata": {},
     "output_type": "execute_result"
    }
   ],
   "source": [
    "y_theory"
   ]
  },
  {
   "cell_type": "code",
   "execution_count": 15,
   "metadata": {},
   "outputs": [],
   "source": [
    "#setup the plots: both points and smooth curve"
   ]
  },
  {
   "cell_type": "code",
   "execution_count": 39,
   "metadata": {},
   "outputs": [
    {
     "data": {
      "image/png": "[encoded data removed]",
      "text/plain": [
       "<Figure size 432x288 with 1 Axes>"
      ]
     },
     "metadata": {
      "needs_background": "light"
     },
     "output_type": "display_data"
    }
   ],
   "source": [
    "plt.plot(x_fake,y_fake,'bo',label='data',lw=3) #points\n",
    "plt.plot(x_theory,y_theory,color='green',label='theory',lw=3) #line\n",
    "plt.grid()\n",
    "plt.legend()\n",
    "#plt.xlabel('x')\n",
    "#plt.ylabel('data and theory')\n",
    "plt.title('Results From the Experiment')\n",
    "plt.yscale('log') #make the y axis (ordinate) log; that is ;log-linear\n",
    "plt.show()"
   ]
  },
  {
   "cell_type": "markdown",
   "metadata": {},
   "source": [
    "# Error Bars:Real Data"
   ]
  },
  {
   "cell_type": "code",
   "execution_count": 41,
   "metadata": {},
   "outputs": [],
   "source": [
    "import numpy as np\n",
    "import matplotlib.pyplot as plt"
   ]
  },
  {
   "cell_type": "code",
   "execution_count": 42,
   "metadata": {},
   "outputs": [],
   "source": [
    "#data is entered into reglar python lists"
   ]
  },
  {
   "cell_type": "code",
   "execution_count": 43,
   "metadata": {},
   "outputs": [],
   "source": [
    "x = [0.1,0.2,0.3,0.4,0.5,0.6,0.7,0.8]\n",
    "y=[0.9,0.8,0.366,0.5,0.39,0.45,0.3,0.15]"
   ]
  },
  {
   "cell_type": "code",
   "execution_count": 44,
   "metadata": {},
   "outputs": [],
   "source": [
    "#including the error bar at each point\n",
    "y_err = [0.12,0.05,0.15,0.17,0.07,0.2,0.1,0.14]"
   ]
  },
  {
   "cell_type": "code",
   "execution_count": 49,
   "metadata": {},
   "outputs": [
    {
     "ename": "TypeError",
     "evalue": "'str' object is not callable",
     "output_type": "error",
     "traceback": [
      "\u001b[1;31m---------------------------------------------------------------------------\u001b[0m",
      "\u001b[1;31mTypeError\u001b[0m                                 Traceback (most recent call last)",
      "\u001b[1;32m<ipython-input-49-b4a9782f79e5>\u001b[0m in \u001b[0;36m<module>\u001b[1;34m\u001b[0m\n\u001b[0;32m      8\u001b[0m \u001b[1;31m#.. and add that to the plot as well\u001b[0m\u001b[1;33m\u001b[0m\u001b[1;33m\u001b[0m\u001b[1;33m\u001b[0m\u001b[0m\n\u001b[0;32m      9\u001b[0m \u001b[0mplt\u001b[0m\u001b[1;33m.\u001b[0m\u001b[0mplot\u001b[0m\u001b[1;33m(\u001b[0m\u001b[0mxx\u001b[0m\u001b[1;33m,\u001b[0m\u001b[0myy\u001b[0m\u001b[1;33m,\u001b[0m\u001b[0mlw\u001b[0m\u001b[1;33m=\u001b[0m\u001b[1;36m3\u001b[0m\u001b[1;33m,\u001b[0m\u001b[0mcolor\u001b[0m\u001b[1;33m=\u001b[0m\u001b[1;34m'magenta'\u001b[0m\u001b[1;33m,\u001b[0m\u001b[0mlabel\u001b[0m\u001b[1;33m=\u001b[0m\u001b[1;34m'theory'\u001b[0m\u001b[1;33m)\u001b[0m\u001b[1;33m\u001b[0m\u001b[1;33m\u001b[0m\u001b[0m\n\u001b[1;32m---> 10\u001b[1;33m \u001b[0mplt\u001b[0m\u001b[1;33m.\u001b[0m\u001b[0mylabel\u001b[0m\u001b[1;33m(\u001b[0m\u001b[1;34m\"number of bacteria(normalized)\"\u001b[0m\u001b[1;33m)\u001b[0m\u001b[1;33m\u001b[0m\u001b[1;33m\u001b[0m\u001b[0m\n\u001b[0m\u001b[0;32m     11\u001b[0m \u001b[0mplt\u001b[0m\u001b[1;33m.\u001b[0m\u001b[0mxlabel\u001b[0m\u001b[1;33m(\u001b[0m\u001b[1;34m\"time (hours)\"\u001b[0m\u001b[1;33m)\u001b[0m\u001b[1;33m\u001b[0m\u001b[1;33m\u001b[0m\u001b[0m\n\u001b[0;32m     12\u001b[0m \u001b[0mplt\u001b[0m\u001b[1;33m.\u001b[0m\u001b[0mtitle\u001b[0m\u001b[1;33m(\u001b[0m\u001b[1;34m\"Bacteria slowly die out experiment\"\u001b[0m\u001b[1;33m)\u001b[0m\u001b[1;33m\u001b[0m\u001b[1;33m\u001b[0m\u001b[0m\n",
      "\u001b[1;31mTypeError\u001b[0m: 'str' object is not callable"
     ]
    },
    {
     "data": {
      "image/png": "[encoded data removed]",
      "text/plain": [
       "<Figure size 432x288 with 1 Axes>"
      ]
     },
     "metadata": {
      "needs_background": "light"
     },
     "output_type": "display_data"
    }
   ],
   "source": [
    "#add to plot the data as (x,y) with error bars\n",
    "#note that xerr is also allowed;you can have both \n",
    "plt.errorbar(x,y,yerr=y_err,lw=2,ecolor='g',fmt='o--',capthick=2,label='data')\n",
    "\n",
    "#lets also compare with the theoretical curve..\n",
    "xx=np.linspace(0,1,50)\n",
    "yy=np.exp(-3.*xx/2)\n",
    "#.. and add that to the plot as well\n",
    "plt.plot(xx,yy,lw=3,color='magenta',label='theory')\n",
    "plt.ylabel(\"number of bacteria(normalized)\")\n",
    "plt.xlabel(\"time (hours)\")\n",
    "plt.title(\"Bacteria slowly die out experiment\")\n",
    "plt.legend()\n",
    "plt.grid()\n",
    "plt.show()"
   ]
  },
  {
   "cell_type": "code",
   "execution_count": null,
   "metadata": {},
   "outputs": [],
   "source": []
  },
  {
   "cell_type": "code",
   "execution_count": null,
   "metadata": {},
   "outputs": [],
   "source": []
  },
  {
   "cell_type": "code",
   "execution_count": null,
   "metadata": {},
   "outputs": [],
   "source": []
  }
 ],
 "metadata": {
  "kernelspec": {
   "display_name": "Python 3",
   "language": "python",
   "name": "python3"
  },
  "language_info": {
   "codemirror_mode": {
    "name": "ipython",
    "version": 3
   },
   "file_extension": ".py",
   "mimetype": "text/x-python",
   "name": "python",
   "nbconvert_exporter": "python",
   "pygments_lexer": "ipython3",
   "version": "3.7.4"
  }
 },
 "nbformat": 4,
 "nbformat_minor": 2
}
